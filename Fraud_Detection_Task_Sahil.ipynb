{
  "cells": [
    {
      "cell_type": "markdown",
      "id": "1cc3aa46",
      "metadata": {
        "id": "1cc3aa46"
      },
      "source": [
        "# ✅ 1. Data Cleaning: Missing Values, Outliers, Multi-Collinearity"
      ]
    },
    {
      "cell_type": "code",
      "execution_count": 3,
      "id": "94ab5a60",
      "metadata": {
        "colab": {
          "base_uri": "https://localhost:8080/",
          "height": 0
        },
        "id": "94ab5a60",
        "outputId": "5266a5ad-d30d-47cb-a8c5-afedd8443ca5"
      },
      "outputs": [
        {
          "output_type": "stream",
          "name": "stdout",
          "text": [
            "Initial Shape: (69858, 11)\n",
            "<class 'pandas.core.frame.DataFrame'>\n",
            "RangeIndex: 69858 entries, 0 to 69857\n",
            "Data columns (total 11 columns):\n",
            " #   Column          Non-Null Count  Dtype  \n",
            "---  ------          --------------  -----  \n",
            " 0   step            69858 non-null  int64  \n",
            " 1   type            69858 non-null  object \n",
            " 2   amount          69858 non-null  float64\n",
            " 3   nameOrig        69858 non-null  object \n",
            " 4   oldbalanceOrg   69858 non-null  float64\n",
            " 5   newbalanceOrig  69858 non-null  float64\n",
            " 6   nameDest        69858 non-null  object \n",
            " 7   oldbalanceDest  69858 non-null  float64\n",
            " 8   newbalanceDest  69857 non-null  float64\n",
            " 9   isFraud         69857 non-null  float64\n",
            " 10  isFlaggedFraud  69857 non-null  float64\n",
            "dtypes: float64(7), int64(1), object(3)\n",
            "memory usage: 5.9+ MB\n",
            "None\n",
            "Shape after dropping missing values: (69857, 11)\n",
            "\n",
            "VIF Results:\n",
            "           feature         VIF\n",
            "0          amount    1.501821\n",
            "1   oldbalanceOrg  317.504726\n",
            "2  newbalanceOrig  318.617411\n",
            "3  oldbalanceDest    6.153026\n",
            "4  newbalanceDest    6.982543\n"
          ]
        }
      ],
      "source": [
        "import pandas as pd\n",
        "import numpy as np\n",
        "import matplotlib.pyplot as plt\n",
        "import seaborn as sns\n",
        "from sklearn.model_selection import train_test_split\n",
        "from sklearn.ensemble import RandomForestClassifier\n",
        "from sklearn.linear_model import LogisticRegression\n",
        "from sklearn.metrics import classification_report, confusion_matrix, roc_auc_score, roc_curve\n",
        "from imblearn.over_sampling import SMOTE\n",
        "from statsmodels.stats.outliers_influence import variance_inflation_factor\n",
        "from sklearn.preprocessing import LabelEncoder\n",
        "\n",
        "# Load dataset\n",
        "df = pd.read_csv(\"Fraud.csv\")\n",
        "print(\"Initial Shape:\", df.shape)\n",
        "print(df.info())\n",
        "\n",
        "# Handling missing values\n",
        "df.dropna(inplace=True)\n",
        "print(\"Shape after dropping missing values:\", df.shape)\n",
        "\n",
        "# Detecting and removing outliers\n",
        "numerical_cols = ['amount', 'oldbalanceOrg', 'newbalanceOrig', 'oldbalanceDest', 'newbalanceDest']\n",
        "for col in numerical_cols:\n",
        "    q1 = df[col].quantile(0.01)\n",
        "    q99 = df[col].quantile(0.99)\n",
        "    df = df[(df[col] >= q1) & (df[col] <= q99)]\n",
        "\n",
        "# Multicollinearity check\n",
        "X_vif = df[numerical_cols].fillna(0)\n",
        "vif_data = pd.DataFrame()\n",
        "vif_data['feature'] = X_vif.columns\n",
        "vif_data['VIF'] = [variance_inflation_factor(X_vif.values, i) for i in range(X_vif.shape[1])]\n",
        "print(\"\\nVIF Results:\\n\", vif_data)"
      ]
    },
    {
      "cell_type": "markdown",
      "id": "3dca23fc",
      "metadata": {
        "id": "3dca23fc"
      },
      "source": [
        "# ✅ 2. Model Description"
      ]
    },
    {
      "cell_type": "markdown",
      "source": [
        "\n",
        "We use Random Forest Classifier and Logistic Regression.\n",
        "- Random Forest is robust to outliers and handles imbalanced data well.\n",
        "- Logistic Regression offers interpretability for business explanations.\n"
      ],
      "metadata": {
        "id": "rg0ZWA80wfMa"
      },
      "id": "rg0ZWA80wfMa"
    },
    {
      "cell_type": "markdown",
      "id": "9716abdb",
      "metadata": {
        "id": "9716abdb"
      },
      "source": [
        "# ✅ 3. Feature Selection"
      ]
    },
    {
      "cell_type": "code",
      "execution_count": 8,
      "id": "4ae0d471",
      "metadata": {
        "id": "4ae0d471"
      },
      "outputs": [],
      "source": [
        "# Encoding categorical variables\n",
        "df['type'] = LabelEncoder().fit_transform(df['type'])\n",
        "features = ['amount', 'oldbalanceOrg', 'newbalanceOrig', 'oldbalanceDest', 'newbalanceDest', 'type']\n",
        "X = df[features]\n",
        "y = df['isFraud']"
      ]
    },
    {
      "cell_type": "markdown",
      "id": "8273d713",
      "metadata": {
        "id": "8273d713"
      },
      "source": [
        "# ✅ 4. Performance Metrics"
      ]
    },
    {
      "cell_type": "code",
      "execution_count": 6,
      "id": "c634a069",
      "metadata": {
        "colab": {
          "base_uri": "https://localhost:8080/",
          "height": 715
        },
        "id": "c634a069",
        "outputId": "46332883-99d7-461e-d10c-b133e53184a3"
      },
      "outputs": [
        {
          "output_type": "stream",
          "name": "stdout",
          "text": [
            "Classification Report:\n",
            "               precision    recall  f1-score   support\n",
            "\n",
            "         0.0       1.00      1.00      1.00     19701\n",
            "         1.0       0.28      0.79      0.42        28\n",
            "\n",
            "    accuracy                           1.00     19729\n",
            "   macro avg       0.64      0.89      0.71     19729\n",
            "weighted avg       1.00      1.00      1.00     19729\n",
            "\n",
            "Confusion Matrix:\n",
            " [[19645    56]\n",
            " [    6    22]]\n",
            "ROC-AUC Score: 0.8914358952047394\n"
          ]
        },
        {
          "output_type": "display_data",
          "data": {
            "text/plain": [
              "<Figure size 640x480 with 1 Axes>"
            ],
            "image/png": "[encoded data removed]"
          },
          "metadata": {}
        }
      ],
      "source": [
        "X_train, X_test, y_train, y_test = train_test_split(X, y, test_size=0.3, random_state=42, stratify=y)\n",
        "\n",
        "# Handling imbalance\n",
        "smote = SMOTE(random_state=42)\n",
        "X_res, y_res = smote.fit_resample(X_train, y_train)\n",
        "\n",
        "# Train Random Forest\n",
        "model = RandomForestClassifier(random_state=42)\n",
        "model.fit(X_res, y_res)\n",
        "y_pred = model.predict(X_test)\n",
        "\n",
        "print(\"Classification Report:\\n\", classification_report(y_test, y_pred))\n",
        "print(\"Confusion Matrix:\\n\", confusion_matrix(y_test, y_pred))\n",
        "print(\"ROC-AUC Score:\", roc_auc_score(y_test, y_pred))\n",
        "\n",
        "fpr, tpr, _ = roc_curve(y_test, y_pred)\n",
        "plt.plot(fpr, tpr)\n",
        "plt.xlabel('False Positive Rate')\n",
        "plt.ylabel('True Positive Rate')\n",
        "plt.title('ROC Curve')\n",
        "plt.grid()\n",
        "plt.show()"
      ]
    },
    {
      "cell_type": "markdown",
      "id": "1280cd87",
      "metadata": {
        "id": "1280cd87"
      },
      "source": [
        "# ✅ 5. Key Predictive Features"
      ]
    },
    {
      "cell_type": "code",
      "execution_count": 7,
      "id": "bda5dc33",
      "metadata": {
        "colab": {
          "base_uri": "https://localhost:8080/",
          "height": 0
        },
        "id": "bda5dc33",
        "outputId": "ee68c293-2e1f-47d8-e7a9-c1eafe84ae50"
      },
      "outputs": [
        {
          "output_type": "stream",
          "name": "stdout",
          "text": [
            "\n",
            "Feature Importances:\n",
            " oldbalanceOrg     0.315402\n",
            "newbalanceOrig    0.245135\n",
            "oldbalanceDest    0.122826\n",
            "type              0.112989\n",
            "amount            0.112580\n",
            "newbalanceDest    0.091067\n",
            "dtype: float64\n"
          ]
        }
      ],
      "source": [
        "feature_importances = pd.Series(model.feature_importances_, index=features).sort_values(ascending=False)\n",
        "print(\"\\nFeature Importances:\\n\", feature_importances)"
      ]
    },
    {
      "cell_type": "markdown",
      "id": "3c1a3cad",
      "metadata": {
        "id": "3c1a3cad"
      },
      "source": [
        "# ✅ 6. Do the factors make sense?"
      ]
    },
    {
      "cell_type": "markdown",
      "source": [
        "### ✅ Do These Results Make Sense?\n",
        "\n",
        "Absolutely, the results match common patterns seen in fraudulent behavior:\n",
        "\n",
        "- **High Transaction Amounts:**  \n",
        "  Fraudulent transactions often involve large sums of money. Attackers usually try to move as much as possible in a short time before detection. When a transaction is significantly different from normal customer behavior, it raises a red flag.\n",
        "\n",
        "- **Balance Imbalances:**  \n",
        "  A common trick in fraud is transferring all available funds from an account, leaving the balance nearly zero. When the original account suddenly drops to zero or the destination account shows a big increase, it usually indicates suspicious activity.\n",
        "\n",
        "- **Transaction Type (e.g., TRANSFER or CASH_OUT):**  \n",
        "  These transaction types are often used in fraud cases because they allow for quick movement or withdrawal of money. For example, fraudsters might first TRANSFER money to another account and then immediately CASH OUT before the transaction gets flagged.\n",
        "\n",
        "---\n",
        "\n",
        "In short, the model is identifying the kinds of behaviors a human fraud investigator would also view as risky. This increases confidence in the model’s logic and effectiveness.\n"
      ],
      "metadata": {
        "id": "sI-D4F4sv8YZ"
      },
      "id": "sI-D4F4sv8YZ"
    },
    {
      "cell_type": "markdown",
      "id": "21128b9b",
      "metadata": {
        "id": "21128b9b"
      },
      "source": [
        "# ✅ 7. Infrastructure-level Fraud Prevention Suggestions"
      ]
    },
    {
      "cell_type": "markdown",
      "source": [
        "### ✅ Simple and Effective Ways to Prevent Fraud\n",
        "\n",
        "To reduce the chances of fraud, companies should follow these important steps:\n",
        "\n",
        "1. **Use Real-Time Monitoring:**  \n",
        "   Set up live dashboards to watch transactions as they happen. This helps catch fraud instantly.\n",
        "\n",
        "2. **Add Multi-Factor Authentication (MFA):**  \n",
        "   Ask users for more than just a password — like an OTP, fingerprint, or email code — to confirm who they are.\n",
        "\n",
        "3. **Encrypt Important Data:**  \n",
        "   Make sure that sensitive details (like passwords and money transfers) are securely protected during storage and transfer.\n",
        "\n",
        "4. **Keep Logs and Watch for Strange Activity:**  \n",
        "   Record what users do in the system and use tools to spot anything unusual.\n",
        "\n",
        "5. **Use Machine Learning for Risk Scoring:**  \n",
        "   Let smart models score each transaction based on how risky it looks. Stop or review high-risk ones automatically.\n",
        "\n",
        "6. **Track Location and Device:**  \n",
        "   Check where a user is logging in from and what device they’re using. If it’s something new or odd, alert the system.\n",
        "\n",
        "7. **Limit Big Transactions:**  \n",
        "   Put daily limits on how much new users can send or withdraw. Ask for extra verification if someone tries to send a lot of money.\n",
        "\n",
        "8. **Keep Updating Fraud Detection Models:**  \n",
        "   Fraudsters change tactics often. Update your systems regularly with new data to stay ahead.\n",
        "\n",
        "9. **Understand Each User’s Normal Behavior:**  \n",
        "   Learn what a user usually does — like how much they send, when, and where — and flag anything different.\n",
        "\n",
        "10. **Do Regular Security Checks:**  \n",
        "    Review your system often to find weak spots before hackers do.\n",
        "\n",
        "---\n",
        "\n",
        "Following these steps can help companies stay safe and stop fraud before it causes damage.\n"
      ],
      "metadata": {
        "id": "q6qd-J2jwBts"
      },
      "id": "q6qd-J2jwBts"
    },
    {
      "cell_type": "markdown",
      "id": "25b269c4",
      "metadata": {
        "id": "25b269c4"
      },
      "source": [
        "# ✅ 8. How to Evaluate the Effectiveness of Preventive Measures"
      ]
    },
    {
      "cell_type": "markdown",
      "source": [
        "### ✅ How to Know If Fraud Prevention Steps Are Working\n",
        "\n",
        "After making changes to stop fraud, it's important to check if they are actually helping. Here are simple ways to do that:\n",
        "\n",
        "1. **Watch Key Metrics (KPIs):**  \n",
        "   Track numbers like fraud rate, false positives (wrongly blocked transactions), and precision (how accurate your fraud detection is).\n",
        "\n",
        "2. **Listen to Users:**  \n",
        "   Pay attention to complaints or reports from users about blocked accounts or unauthorized activity.\n",
        "\n",
        "3. **Compare Before and After:**  \n",
        "   Look at fraud-related numbers before the changes and after. A drop in fraud cases is a good sign the changes are working.\n",
        "\n",
        "4. **A/B Testing:**  \n",
        "   Try out new rules or systems on a small group of users first. Compare their results with those using the old system to see what works better.\n",
        "\n",
        "---\n",
        "\n",
        "By checking these things regularly, companies can make sure their fraud protection is not just in place — but actually making a difference.\n"
      ],
      "metadata": {
        "id": "vSbEG4ePwI72"
      },
      "id": "vSbEG4ePwI72"
    },
    {
      "cell_type": "code",
      "source": [],
      "metadata": {
        "id": "XvY17zXzzFKR"
      },
      "id": "XvY17zXzzFKR",
      "execution_count": null,
      "outputs": []
    }
  ],
  "metadata": {
    "colab": {
      "provenance": []
    },
    "language_info": {
      "name": "python"
    },
    "kernelspec": {
      "name": "python3",
      "display_name": "Python 3"
    }
  },
  "nbformat": 4,
  "nbformat_minor": 5
}